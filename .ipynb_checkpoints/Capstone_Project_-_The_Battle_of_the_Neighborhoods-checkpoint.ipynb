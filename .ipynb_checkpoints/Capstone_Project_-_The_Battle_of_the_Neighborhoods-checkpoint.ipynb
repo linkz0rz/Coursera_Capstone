{
 "cells": [
  {
   "cell_type": "markdown",
   "metadata": {},
   "source": [
    "# Capstone Project - The Battle of the Neighborhoods (Week 1 & 2)\n",
    "## Applied Data Science Capstone by IBM/Coursera"
   ]
  },
  {
   "cell_type": "markdown",
   "metadata": {},
   "source": [
    "### Week 1\n",
    "#### Description of Problem\n",
    "In the United Kingdom there are many places to live, many of them are full of diversity and history. As a result, it is a popular country to live in and properties are highly sought after by many people, both nationally and internationally. One of the most popular - if not the most popular - locations is within the county of Greater London. Greater London is densely populated, therefore starting any business there with an expected high foot traffic would be beneficial to that business.\n",
    "\n",
    "Greater London is made up of 32 boroughs and 33 districts, with one of the districts being the City of London that does not identify as being a borough. Each borough has its own set of postcodes with designations as to the general location they are found in, such as E for East, NW for North West. Note that there are no S for South or NE for North East, they fold into the other postcodes.\n",
    "\n",
    "However, not all areas of Greater London are safe to live in. Some boroughs are safer than others, so choosing to live at that location could be more hazardous. We'll use Data Science tools to look at the clustering of crime across all the Greater London boroughs and locate which borough is safest. With the safest boroughs selected, we can then work out where it would be best to start a Restaurant within that vicinity where the main venues are not restaurants.\n",
    "\n",
    "#### Description of the data\n",
    "Data will come from three locations. They are:\n",
    "\n",
    "* Crime Data (https://data.police.uk/data/)\n",
    "* Borough postcode data (e.g. for Eastern Postcodes https://en.wikipedia.org/wiki/E_postcode_area)\n",
    "\n",
    "##### Crime Data\n",
    "\n",
    "Data will be for crimes reported by the Metropolitan Police and City of London Police as they together cover the Greater London area. The data we'll look into would be the 2019 set of data as it is the most recent complete year.\n",
    "\n",
    "The data files will be csv files with the following properties:\n",
    "\n",
    "* Crime ID\n",
    "* Month\n",
    "* Reported by\n",
    "* Falls within\n",
    "* Longitude\n",
    "* Latitude\n",
    "* Location\n",
    "* LSOA code\n",
    "* LSOA name\n",
    "* Crime type\n",
    "* Last outcome category\n",
    "* Context\n",
    "\n",
    "The key columns are the Longitude and Latitude to use mark the locations.\n",
    "\n",
    "##### Borough Postcode Data\n",
    "\n",
    "Once the safest borough has been identified, the postcodes for the borough would be retrieved from Wikipedia. Postcodes would be run through geocoder to retrieve the latitudes and longitudes before passing them through the Foursquare Venue Explore API to retrieve local venues."
   ]
  }
 ],
 "metadata": {
  "kernelspec": {
   "display_name": "Python 3",
   "language": "python",
   "name": "python3"
  },
  "language_info": {
   "codemirror_mode": {
    "name": "ipython",
    "version": 3
   },
   "file_extension": ".py",
   "mimetype": "text/x-python",
   "name": "python",
   "nbconvert_exporter": "python",
   "pygments_lexer": "ipython3",
   "version": "3.7.6"
  }
 },
 "nbformat": 4,
 "nbformat_minor": 4
}
